{
 "cells": [
  {
   "cell_type": "code",
   "execution_count": 27,
   "id": "cb979f3e-6cd8-4667-9347-813ecadb1c79",
   "metadata": {},
   "outputs": [],
   "source": [
    "import numpy as np\n",
    "\n",
    "def sigmoid(x):\n",
    "    \"\"\"\n",
    "    This function implements the sigmoid function using NumPy.\n",
    "    \n",
    "    Args:\n",
    "      x: The input value.\n",
    "    \n",
    "    Returns:\n",
    "      (The sigmoid of x, The 1st derivative of sigmoid in x).\n",
    "    \"\"\"\n",
    "    s = 1 / (1 + np.exp(-x))\n",
    "    return (s, s*(1-s))\n",
    "  \n",
    "def step(x):\n",
    "    return 1 if x > 0 else 0 \n"
   ]
  },
  {
   "cell_type": "code",
   "execution_count": 28,
   "id": "bd393594-263f-4967-9658-8cb6ad524b6a",
   "metadata": {},
   "outputs": [],
   "source": [
    "w = np.array([1,0,0]) \n",
    "a = np.array([0,0])\n",
    "b = np.array([0,1])\n",
    "c = np.array([1,0])\n",
    "d = np.array([1,1])\n",
    "train_list_xor = [{0:a}, {1:b}, {1:c}, {0:d}]\n",
    "train_list_or = [{0:a}, {1:b}, {1:c}, {1:d}]\n",
    "train_list_and = [{0:a}, {0:b}, {0:c}, {1:d}]"
   ]
  },
  {
   "cell_type": "code",
   "execution_count": 29,
   "id": "58a8b691-1e4d-4843-8a58-dbb0b088ef50",
   "metadata": {},
   "outputs": [],
   "source": [
    "import numpy as np\n",
    "\n",
    "class Neuron:\n",
    "    def __init__(self, N, activation_function=sigmoid):\n",
    "        \"\"\"Initializes a new Neuron instance.\n",
    "        Args:\n",
    "            activation_function: The activation function to use (default: sigmoid).\n",
    "        \"\"\"\n",
    "        self.activation_function = activation_function\n",
    "        self.weight = np.random.randn(N+1)  # Initialize weight randomly\n",
    "        \n",
    "    def set_weight(self, weight):\n",
    "        self.weight = weight\n",
    "        \n",
    "    def update_weight(self, learning_rate, error, input_value):\n",
    "        \"\"\"Updates the weight of the neuron using the given learning rate, error, and input value.\n",
    "        Args:\n",
    "            learning_rate: The learning rate for the weight update.\n",
    "            error: The error signal for the current sample.\n",
    "            input_value: The input value for the current sample.\n",
    "        \"\"\"\n",
    "        self.weight -= learning_rate * error * input_value  # Apply gradient descent update\n",
    "\n",
    "    def output(self, input):\n",
    "        \"\"\"Calculates the output of the neuron for a given input value.\n",
    "        Args:\n",
    "            input: The input vector to the neuron.\n",
    "        Returns:\n",
    "            The activated output of the neuron.\n",
    "        \"\"\"\n",
    "        weighted_sum = input * self.weight  # Calculate weighted sum\n",
    "        return self.activation_function(weighted_sum)[0]  # Apply activation function\n"
   ]
  },
  {
   "cell_type": "code",
   "execution_count": 30,
   "id": "06e47989-f51f-4a9b-ab36-79735bd21d3b",
   "metadata": {},
   "outputs": [],
   "source": [
    "neuron_a = Neuron(2,)\n",
    "neuron_a.set_weight(np.array([1,1,-0.5]))\n",
    "neuron_b = Neuron(2,)\n",
    "neuron_b.set_weight(np.array([1,1,-1.5]))\n",
    "neuron_f = Neuron(2,)\n",
    "neuron_f.set_weight(np.array([1,-1,-0.5]))"
   ]
  },
  {
   "cell_type": "code",
   "execution_count": 31,
   "id": "9cea0f47-bad9-4d7f-9bee-716b280e31a1",
   "metadata": {},
   "outputs": [],
   "source": [
    "def MLP_output(input, n_a, n_b, n_c):\n",
    "    return n_c.output(np.array([n_a.output(input), n_b.output(input), 1]))"
   ]
  },
  {
   "cell_type": "code",
   "execution_count": 32,
   "id": "23dfadd9-9706-4094-8471-f244b8684b47",
   "metadata": {},
   "outputs": [
    {
     "ename": "ValueError",
     "evalue": "setting an array element with a sequence. The requested array has an inhomogeneous shape after 1 dimensions. The detected shape was (3,) + inhomogeneous part.",
     "output_type": "error",
     "traceback": [
      "\u001b[0;31m---------------------------------------------------------------------------\u001b[0m",
      "\u001b[0;31mValueError\u001b[0m                                Traceback (most recent call last)",
      "Cell \u001b[0;32mIn[32], line 4\u001b[0m\n\u001b[1;32m      2\u001b[0m p\u001b[38;5;241m.\u001b[39mappend(\u001b[38;5;241m1\u001b[39m)\n\u001b[1;32m      3\u001b[0m test \u001b[38;5;241m=\u001b[39m np\u001b[38;5;241m.\u001b[39marray(p)\n\u001b[0;32m----> 4\u001b[0m \u001b[38;5;28mprint\u001b[39m(\u001b[43mMLP_output\u001b[49m\u001b[43m(\u001b[49m\u001b[43mtest\u001b[49m\u001b[43m,\u001b[49m\u001b[43m \u001b[49m\u001b[43mneuron_a\u001b[49m\u001b[43m,\u001b[49m\u001b[43m \u001b[49m\u001b[43mneuron_b\u001b[49m\u001b[43m,\u001b[49m\u001b[43m \u001b[49m\u001b[43mneuron_f\u001b[49m\u001b[43m)\u001b[49m)\n",
      "Cell \u001b[0;32mIn[31], line 2\u001b[0m, in \u001b[0;36mMLP_output\u001b[0;34m(input, n_a, n_b, n_c)\u001b[0m\n\u001b[1;32m      1\u001b[0m \u001b[38;5;28;01mdef\u001b[39;00m \u001b[38;5;21mMLP_output\u001b[39m(\u001b[38;5;28minput\u001b[39m, n_a, n_b, n_c):\n\u001b[0;32m----> 2\u001b[0m     \u001b[38;5;28;01mreturn\u001b[39;00m n_c\u001b[38;5;241m.\u001b[39moutput(\u001b[43mnp\u001b[49m\u001b[38;5;241;43m.\u001b[39;49m\u001b[43marray\u001b[49m\u001b[43m(\u001b[49m\u001b[43m[\u001b[49m\u001b[43mn_a\u001b[49m\u001b[38;5;241;43m.\u001b[39;49m\u001b[43moutput\u001b[49m\u001b[43m(\u001b[49m\u001b[38;5;28;43minput\u001b[39;49m\u001b[43m)\u001b[49m\u001b[43m,\u001b[49m\u001b[43m \u001b[49m\u001b[43mn_b\u001b[49m\u001b[38;5;241;43m.\u001b[39;49m\u001b[43moutput\u001b[49m\u001b[43m(\u001b[49m\u001b[38;5;28;43minput\u001b[39;49m\u001b[43m)\u001b[49m\u001b[43m,\u001b[49m\u001b[43m \u001b[49m\u001b[38;5;241;43m1\u001b[39;49m\u001b[43m]\u001b[49m\u001b[43m)\u001b[49m)\n",
      "\u001b[0;31mValueError\u001b[0m: setting an array element with a sequence. The requested array has an inhomogeneous shape after 1 dimensions. The detected shape was (3,) + inhomogeneous part."
     ]
    }
   ],
   "source": [
    "p = [1,1]\n",
    "p.append(1)\n",
    "test = np.array(p)\n",
    "print(MLP_output(test, neuron_a, neuron_b, neuron_f))"
   ]
  },
  {
   "cell_type": "code",
   "execution_count": null,
   "id": "cc1cb922-08b7-4ca2-92bc-484caf776048",
   "metadata": {},
   "outputs": [],
   "source": []
  }
 ],
 "metadata": {
  "kernelspec": {
   "display_name": "Python 3 (ipykernel)",
   "language": "python",
   "name": "python3"
  },
  "language_info": {
   "codemirror_mode": {
    "name": "ipython",
    "version": 3
   },
   "file_extension": ".py",
   "mimetype": "text/x-python",
   "name": "python",
   "nbconvert_exporter": "python",
   "pygments_lexer": "ipython3",
   "version": "3.10.12"
  }
 },
 "nbformat": 4,
 "nbformat_minor": 5
}
