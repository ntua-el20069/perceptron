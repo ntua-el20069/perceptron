{
 "cells": [
  {
   "cell_type": "code",
   "execution_count": 19,
   "id": "83ff71e3",
   "metadata": {},
   "outputs": [],
   "source": [
    "import numpy as np\n",
    "import matplotlib.pyplot as plt"
   ]
  },
  {
   "cell_type": "code",
   "execution_count": 2,
   "id": "b043dec9",
   "metadata": {},
   "outputs": [],
   "source": [
    "w = np.array([1,0,0,0]) \n",
    "x = np.array([4,3,6])\n",
    "y = np.array([2,-2,3])\n",
    "z = np.array([1,0,-3])\n",
    "r = np.array([4,2,3])\n",
    "train_list = [{0:x}, {1:y}, {1:z}, {0:r}]\n"
   ]
  },
  {
   "cell_type": "code",
   "execution_count": 3,
   "id": "753d9f92",
   "metadata": {},
   "outputs": [],
   "source": [
    "w_2 = np.array([1,0,0]) \n",
    "a = np.array([0,0])\n",
    "b = np.array([0,1])\n",
    "c = np.array([1,0])\n",
    "d = np.array([1,1])\n",
    "train_list_xor = [{0:a}, {1:b}, {1:c}, {0:d}]\n",
    "train_list_or = [{0:a}, {1:b}, {1:c}, {1:d}]\n",
    "train_list_and = [{0:a}, {0:b}, {0:c}, {1:d}]"
   ]
  },
  {
   "cell_type": "code",
   "execution_count": 47,
   "id": "d47b1583",
   "metadata": {},
   "outputs": [],
   "source": [
    "def classify(w,x,show_process=False):\n",
    "    if show_process: print(f\"\\t dot of {w}, {x} : {np.dot(w, x)}\")\n",
    "    if np.dot(w, x) >= 0:\n",
    "        return 1\n",
    "    else:\n",
    "        return 0"
   ]
  },
  {
   "cell_type": "code",
   "execution_count": 5,
   "id": "422cc80a",
   "metadata": {},
   "outputs": [],
   "source": [
    "def update_weights(w, x, change, b = 1):\n",
    "    return w + b*change*x"
   ]
  },
  {
   "cell_type": "code",
   "execution_count": 37,
   "id": "5c025c8c",
   "metadata": {},
   "outputs": [],
   "source": [
    "def plot_perceptron(w, points=[(0,0),(0,1),(1,0),(1,1)]):\n",
    "    if len(w) == 3: # 2d plot for x-y\n",
    "        w0, w1, w2 = w\n",
    "        print(f\"({w0}) + ({w1})x + ({w2})y = 0\")\n",
    "        if w2==0:\n",
    "            if w1 == 0:\n",
    "                print(\"This equation:\\t {w0} = 0 \\t is not a line \\n\")\n",
    "                return\n",
    "            else:\n",
    "                x = -(w0/w1)\n",
    "                y = np.linspace(-0.5, 1.5, 100)\n",
    "        else:\n",
    "            x = np.linspace(-0.5, 1.5, 100)\n",
    "            y = (-w1/w2)*x + (-w0/w2)\n",
    "        plt.plot(x,y)\n",
    "        for point in points:\n",
    "            xp, yp = point\n",
    "            plt.scatter(xp, yp, color='purple')\n",
    "        plt.xlabel('x')\n",
    "        plt.ylabel('y')\n",
    "        plt.title(f'Plot of ({w0}) + ({w1})x + ({w2})y = 0')\n",
    "        plt.grid(True)\n",
    "        plt.show()\n",
    "            \n",
    "    else:\n",
    "        print(\"I can only plot for 2 dimensions x-y\")"
   ]
  },
  {
   "cell_type": "code",
   "execution_count": 36,
   "id": "f072b396",
   "metadata": {
    "scrolled": true
   },
   "outputs": [],
   "source": [
    "def train_perceptron(w_start, train_list, b = 1, plot=True, show_process=True):\n",
    "    w = w_start\n",
    "    i = 0 \n",
    "    counter = 0 # number of consecutive \n",
    "    while(counter < len(train_list) and i < 100): # until there are not wrong classifications or i = 100  \n",
    "        if show_process: print(f\"{i+1} Step:\")\n",
    "        u = train_list[i%len(train_list)] # in order to circularly use the next vector\n",
    "        for y, x in u.items(): # y is the class, x is the vector\n",
    "            break\n",
    "        if show_process: print(f\"\\t Class: y = {y}, Vector: x = {x}\")\n",
    "        x = np.insert(x, 0, 1) # extend the vector\n",
    "        \n",
    "        # Classification\n",
    "        f = classify(w,x,show_process)\n",
    "        if(f==y):\n",
    "            if show_process: print('\\t Correctly classified')\n",
    "            counter += 1 # one more correct classification\n",
    "        else:\n",
    "            if show_process: print(f'\\t Classified in class {f} whereas it is in class {y}')\n",
    "            counter = 0 # we need to update the weights\n",
    "        \n",
    "        # Update \n",
    "        w = update_weights(w, x, y - f, b)\n",
    "        if show_process: print(f\"\\t w = {w}\\n\")\n",
    "        i += 1 # next \n",
    "    # plot and return value of weight vector w\n",
    "    plot_perceptron(w)\n",
    "    return w\n",
    "        \n"
   ]
  },
  {
   "cell_type": "code",
   "execution_count": 41,
   "id": "102505fe",
   "metadata": {
    "scrolled": true
   },
   "outputs": [
    {
     "name": "stdout",
     "output_type": "stream",
     "text": [
      "1 Step:\n",
      "\t Class: y = 0, Vector: x = [4 3 6]\n",
      "\t dot of [1 0 0 0], [1 4 3 6] : 1\n",
      "\t Classified in class 1 whereas it is in class 0\n",
      "\t w = [ 0 -4 -3 -6]\n",
      "\n",
      "2 Step:\n",
      "\t Class: y = 1, Vector: x = [ 2 -2  3]\n",
      "\t dot of [ 0 -4 -3 -6], [ 1  2 -2  3] : -20\n",
      "\t Classified in class 0 whereas it is in class 1\n",
      "\t w = [ 1 -2 -5 -3]\n",
      "\n",
      "3 Step:\n",
      "\t Class: y = 1, Vector: x = [ 1  0 -3]\n",
      "\t dot of [ 1 -2 -5 -3], [ 1  1  0 -3] : 8\n",
      "\t Correctly classified\n",
      "\t w = [ 1 -2 -5 -3]\n",
      "\n",
      "4 Step:\n",
      "\t Class: y = 0, Vector: x = [4 2 3]\n",
      "\t dot of [ 1 -2 -5 -3], [1 4 2 3] : -26\n",
      "\t Correctly classified\n",
      "\t w = [ 1 -2 -5 -3]\n",
      "\n",
      "5 Step:\n",
      "\t Class: y = 0, Vector: x = [4 3 6]\n",
      "\t dot of [ 1 -2 -5 -3], [1 4 3 6] : -40\n",
      "\t Correctly classified\n",
      "\t w = [ 1 -2 -5 -3]\n",
      "\n",
      "6 Step:\n",
      "\t Class: y = 1, Vector: x = [ 2 -2  3]\n",
      "\t dot of [ 1 -2 -5 -3], [ 1  2 -2  3] : -2\n",
      "\t Classified in class 0 whereas it is in class 1\n",
      "\t w = [ 2  0 -7  0]\n",
      "\n",
      "7 Step:\n",
      "\t Class: y = 1, Vector: x = [ 1  0 -3]\n",
      "\t dot of [ 2  0 -7  0], [ 1  1  0 -3] : 2\n",
      "\t Correctly classified\n",
      "\t w = [ 2  0 -7  0]\n",
      "\n",
      "8 Step:\n",
      "\t Class: y = 0, Vector: x = [4 2 3]\n",
      "\t dot of [ 2  0 -7  0], [1 4 2 3] : -12\n",
      "\t Correctly classified\n",
      "\t w = [ 2  0 -7  0]\n",
      "\n",
      "9 Step:\n",
      "\t Class: y = 0, Vector: x = [4 3 6]\n",
      "\t dot of [ 2  0 -7  0], [1 4 3 6] : -19\n",
      "\t Correctly classified\n",
      "\t w = [ 2  0 -7  0]\n",
      "\n",
      "10 Step:\n",
      "\t Class: y = 1, Vector: x = [ 2 -2  3]\n",
      "\t dot of [ 2  0 -7  0], [ 1  2 -2  3] : 16\n",
      "\t Correctly classified\n",
      "\t w = [ 2  0 -7  0]\n",
      "\n",
      "I can only plot for 2 dimensions x-y\n"
     ]
    },
    {
     "data": {
      "text/plain": [
       "array([ 2,  0, -7,  0])"
      ]
     },
     "execution_count": 41,
     "metadata": {},
     "output_type": "execute_result"
    }
   ],
   "source": [
    "train_perceptron(w,train_list)\n"
   ]
  },
  {
   "cell_type": "code",
   "execution_count": 48,
   "id": "cd6e07a2",
   "metadata": {},
   "outputs": [
    {
     "name": "stdout",
     "output_type": "stream",
     "text": [
      "1 Step:\n",
      "\t Class: y = 0, Vector: x = [0 0]\n",
      "\t dot of [1 0 0], [1 0 0] : 1\n",
      "\t Classified in class 1 whereas it is in class 0\n",
      "\t w = [-1  0  0]\n",
      "\n",
      "2 Step:\n",
      "\t Class: y = 1, Vector: x = [0 1]\n",
      "\t dot of [-1  0  0], [1 0 1] : -1\n",
      "\t Classified in class 0 whereas it is in class 1\n",
      "\t w = [1 0 2]\n",
      "\n",
      "3 Step:\n",
      "\t Class: y = 1, Vector: x = [1 0]\n",
      "\t dot of [1 0 2], [1 1 0] : 1\n",
      "\t Correctly classified\n",
      "\t w = [1 0 2]\n",
      "\n",
      "4 Step:\n",
      "\t Class: y = 1, Vector: x = [1 1]\n",
      "\t dot of [1 0 2], [1 1 1] : 3\n",
      "\t Correctly classified\n",
      "\t w = [1 0 2]\n",
      "\n",
      "5 Step:\n",
      "\t Class: y = 0, Vector: x = [0 0]\n",
      "\t dot of [1 0 2], [1 0 0] : 1\n",
      "\t Classified in class 1 whereas it is in class 0\n",
      "\t w = [-1  0  2]\n",
      "\n",
      "6 Step:\n",
      "\t Class: y = 1, Vector: x = [0 1]\n",
      "\t dot of [-1  0  2], [1 0 1] : 1\n",
      "\t Correctly classified\n",
      "\t w = [-1  0  2]\n",
      "\n",
      "7 Step:\n",
      "\t Class: y = 1, Vector: x = [1 0]\n",
      "\t dot of [-1  0  2], [1 1 0] : -1\n",
      "\t Classified in class 0 whereas it is in class 1\n",
      "\t w = [1 2 2]\n",
      "\n",
      "8 Step:\n",
      "\t Class: y = 1, Vector: x = [1 1]\n",
      "\t dot of [1 2 2], [1 1 1] : 5\n",
      "\t Correctly classified\n",
      "\t w = [1 2 2]\n",
      "\n",
      "9 Step:\n",
      "\t Class: y = 0, Vector: x = [0 0]\n",
      "\t dot of [1 2 2], [1 0 0] : 1\n",
      "\t Classified in class 1 whereas it is in class 0\n",
      "\t w = [-1  2  2]\n",
      "\n",
      "10 Step:\n",
      "\t Class: y = 1, Vector: x = [0 1]\n",
      "\t dot of [-1  2  2], [1 0 1] : 1\n",
      "\t Correctly classified\n",
      "\t w = [-1  2  2]\n",
      "\n",
      "11 Step:\n",
      "\t Class: y = 1, Vector: x = [1 0]\n",
      "\t dot of [-1  2  2], [1 1 0] : 1\n",
      "\t Correctly classified\n",
      "\t w = [-1  2  2]\n",
      "\n",
      "12 Step:\n",
      "\t Class: y = 1, Vector: x = [1 1]\n",
      "\t dot of [-1  2  2], [1 1 1] : 3\n",
      "\t Correctly classified\n",
      "\t w = [-1  2  2]\n",
      "\n",
      "13 Step:\n",
      "\t Class: y = 0, Vector: x = [0 0]\n",
      "\t dot of [-1  2  2], [1 0 0] : -1\n",
      "\t Correctly classified\n",
      "\t w = [-1  2  2]\n",
      "\n",
      "(-1) + (2)x + (2)y = 0\n"
     ]
    },
    {
     "data": {
      "image/png": "[encoded data removed]",
      "text/plain": [
       "<Figure size 432x288 with 1 Axes>"
      ]
     },
     "metadata": {
      "needs_background": "light"
     },
     "output_type": "display_data"
    },
    {
     "data": {
      "text/plain": [
       "array([-1,  2,  2])"
      ]
     },
     "execution_count": 48,
     "metadata": {},
     "output_type": "execute_result"
    }
   ],
   "source": [
    "#train_perceptron(w_2,train_list_xor) # XOR is NOT linearly seperable problem\n",
    "train_perceptron(w_2,train_list_or,2, show_process=True) # OR problem\n",
    "#train_perceptron(w_2,train_list_and,5) # AND problem"
   ]
  },
  {
   "cell_type": "code",
   "execution_count": 53,
   "id": "4a90aec9",
   "metadata": {},
   "outputs": [
    {
     "name": "stdout",
     "output_type": "stream",
     "text": [
      "\t dot of [-1  2  2], (1, 1, 1) : 3\n"
     ]
    },
    {
     "data": {
      "text/plain": [
       "1"
      ]
     },
     "execution_count": 53,
     "metadata": {},
     "output_type": "execute_result"
    }
   ],
   "source": [
    "classify(np.array([-1,  2,  2]), (1,1,1), True)"
   ]
  },
  {
   "cell_type": "code",
   "execution_count": null,
   "id": "4cbc0d5d",
   "metadata": {},
   "outputs": [],
   "source": []
  }
 ],
 "metadata": {
  "kernelspec": {
   "display_name": "Python 3 (ipykernel)",
   "language": "python",
   "name": "python3"
  },
  "language_info": {
   "codemirror_mode": {
    "name": "ipython",
    "version": 3
   },
   "file_extension": ".py",
   "mimetype": "text/x-python",
   "name": "python",
   "nbconvert_exporter": "python",
   "pygments_lexer": "ipython3",
   "version": "3.9.12"
  }
 },
 "nbformat": 4,
 "nbformat_minor": 5
}
